{
 "cells": [
  {
   "cell_type": "code",
   "execution_count": 1,
   "metadata": {
    "collapsed": true
   },
   "outputs": [],
   "source": [
    "import pandas as pd"
   ]
  },
  {
   "cell_type": "markdown",
   "metadata": {},
   "source": [
    "## Getting the dataset"
   ]
  },
  {
   "cell_type": "code",
   "execution_count": 2,
   "metadata": {},
   "outputs": [
    {
     "data": {
      "text/html": [
       "<div>\n",
       "<style>\n",
       "    .dataframe thead tr:only-child th {\n",
       "        text-align: right;\n",
       "    }\n",
       "\n",
       "    .dataframe thead th {\n",
       "        text-align: left;\n",
       "    }\n",
       "\n",
       "    .dataframe tbody tr th {\n",
       "        vertical-align: top;\n",
       "    }\n",
       "</style>\n",
       "<table border=\"1\" class=\"dataframe\">\n",
       "  <thead>\n",
       "    <tr style=\"text-align: right;\">\n",
       "      <th></th>\n",
       "      <th>artist</th>\n",
       "      <th>title</th>\n",
       "      <th>lyrics</th>\n",
       "      <th>genre</th>\n",
       "      <th>mood</th>\n",
       "      <th>year</th>\n",
       "    </tr>\n",
       "  </thead>\n",
       "  <tbody>\n",
       "    <tr>\n",
       "      <th>0</th>\n",
       "      <td>Casual</td>\n",
       "      <td>I Didn't Mean To</td>\n",
       "      <td>Verse One:\\r\\n\\r\\nAlright I might\\r\\nHave had ...</td>\n",
       "      <td>Hip Hop/Rap</td>\n",
       "      <td>sad</td>\n",
       "      <td>1994</td>\n",
       "    </tr>\n",
       "    <tr>\n",
       "      <th>1</th>\n",
       "      <td>Adam Ant</td>\n",
       "      <td>Something Girls</td>\n",
       "      <td>Adam Ant/Marco Pirroni\\r\\nEvery girl is a some...</td>\n",
       "      <td>Rock</td>\n",
       "      <td>happy</td>\n",
       "      <td>1982</td>\n",
       "    </tr>\n",
       "    <tr>\n",
       "      <th>2</th>\n",
       "      <td>Gob</td>\n",
       "      <td>Face the Ashes</td>\n",
       "      <td>I've just erased it's been a while, I've got a...</td>\n",
       "      <td>Rock</td>\n",
       "      <td>sad</td>\n",
       "      <td>2007</td>\n",
       "    </tr>\n",
       "    <tr>\n",
       "      <th>3</th>\n",
       "      <td>Lionel Richie</td>\n",
       "      <td>Tonight Will Be Alright</td>\n",
       "      <td>Little darling \\r\\nWhere you've been so long \\...</td>\n",
       "      <td>R&amp;B</td>\n",
       "      <td>happy</td>\n",
       "      <td>1986</td>\n",
       "    </tr>\n",
       "    <tr>\n",
       "      <th>4</th>\n",
       "      <td>Blue Rodeo</td>\n",
       "      <td>Floating</td>\n",
       "      <td>Lead Vocal by Greg\\r\\n\\r\\nWell, these late nig...</td>\n",
       "      <td>Rock</td>\n",
       "      <td>sad</td>\n",
       "      <td>1987</td>\n",
       "    </tr>\n",
       "  </tbody>\n",
       "</table>\n",
       "</div>"
      ],
      "text/plain": [
       "          artist                    title  \\\n",
       "0         Casual         I Didn't Mean To   \n",
       "1       Adam Ant          Something Girls   \n",
       "2            Gob           Face the Ashes   \n",
       "3  Lionel Richie  Tonight Will Be Alright   \n",
       "4     Blue Rodeo                 Floating   \n",
       "\n",
       "                                              lyrics        genre   mood  year  \n",
       "0  Verse One:\\r\\n\\r\\nAlright I might\\r\\nHave had ...  Hip Hop/Rap    sad  1994  \n",
       "1  Adam Ant/Marco Pirroni\\r\\nEvery girl is a some...         Rock  happy  1982  \n",
       "2  I've just erased it's been a while, I've got a...         Rock    sad  2007  \n",
       "3  Little darling \\r\\nWhere you've been so long \\...          R&B  happy  1986  \n",
       "4  Lead Vocal by Greg\\r\\n\\r\\nWell, these late nig...         Rock    sad  1987  "
      ]
     },
     "execution_count": 2,
     "metadata": {},
     "output_type": "execute_result"
    }
   ],
   "source": [
    "df = pd.read_excel('song_dataset_lyrics1.xlsx')\n",
    "df.head()"
   ]
  },
  {
   "cell_type": "code",
   "execution_count": 3,
   "metadata": {
    "collapsed": true
   },
   "outputs": [],
   "source": [
    "from sklearn.preprocessing import LabelEncoder\n",
    "import pickle\n",
    "import numpy as np"
   ]
  },
  {
   "cell_type": "markdown",
   "metadata": {},
   "source": [
    "## Label Encoder"
   ]
  },
  {
   "cell_type": "code",
   "execution_count": 4,
   "metadata": {},
   "outputs": [
    {
     "name": "stdout",
     "output_type": "stream",
     "text": [
      "before: ['sad' 'happy' 'sad' 'happy' 'sad'] ...\n",
      "after: [1 0 1 0 1] ...\n"
     ]
    }
   ],
   "source": [
    "X_train = df['lyrics'].values\n",
    "y_train = df['mood'].values\n",
    "print('before: %s ...' %y_train[:5])\n",
    "\n",
    "le = LabelEncoder()\n",
    "le.fit(y_train)\n",
    "y_train = le.transform(y_train)\n",
    "\n",
    "print('after: %s ...' %y_train[:5])"
   ]
  },
  {
   "cell_type": "code",
   "execution_count": 5,
   "metadata": {
    "collapsed": true
   },
   "outputs": [],
   "source": [
    "pickle_out = open('./lyrics_label_encoder_py.pkl', 'wb')\n",
    "pickle.dump(le, pickle_out)\n",
    "pickle_out.close()"
   ]
  },
  {
   "cell_type": "markdown",
   "metadata": {},
   "source": [
    "## Feature Extraction"
   ]
  },
  {
   "cell_type": "markdown",
   "metadata": {},
   "source": [
    "### Porter Stemmer"
   ]
  },
  {
   "cell_type": "code",
   "execution_count": 6,
   "metadata": {
    "collapsed": true
   },
   "outputs": [],
   "source": [
    "# Porter Stemmer\n",
    "\n",
    "import nltk\n",
    "import string\n",
    "import re\n",
    "\n",
    "porter_stemmer = nltk.stem.porter.PorterStemmer()\n",
    "\n",
    "def porter_tokenizer(text, stemmer=porter_stemmer):\n",
    "    \"\"\"\n",
    "    A Porter-Stemmer-Tokenizer hybrid to splits sentences into words (tokens) \n",
    "    and applies the porter stemming algorithm to each of the obtained token. \n",
    "    Tokens that are only consisting of punctuation characters are removed as well.\n",
    "    Only tokens that consist of more than one letter are being kept.\n",
    "    \n",
    "    Parameters\n",
    "    ----------\n",
    "        \n",
    "    text : `str`. \n",
    "      A sentence that is to split into words.\n",
    "        \n",
    "    Returns\n",
    "    ----------\n",
    "    \n",
    "    no_punct : `str`. \n",
    "      A list of tokens after stemming and removing Sentence punctuation patterns.\n",
    "    \n",
    "    \"\"\"\n",
    "    lower_txt = text.lower()\n",
    "    tokens = nltk.wordpunct_tokenize(lower_txt)\n",
    "    stems = [porter_stemmer.stem(t) for t in tokens]\n",
    "    no_punct = [s for s in stems if re.match('^[a-zA-Z]+$', s) is not None]\n",
    "    return no_punct"
   ]
  },
  {
   "cell_type": "code",
   "execution_count": 7,
   "metadata": {},
   "outputs": [
    {
     "data": {
      "text/plain": [
       "['don', 't', 'want', 'swim']"
      ]
     },
     "execution_count": 7,
     "metadata": {},
     "output_type": "execute_result"
    }
   ],
   "source": [
    "porter_tokenizer(\"Don't !!! --- want swimming. \")"
   ]
  },
  {
   "cell_type": "code",
   "execution_count": 8,
   "metadata": {},
   "outputs": [
    {
     "name": "stdout",
     "output_type": "stream",
     "text": [
      "stop words ['i', 'me', 'my', 'myself', 'we'] ...\n"
     ]
    }
   ],
   "source": [
    "with open('./stopwords.txt', 'r') as infile:\n",
    "    stop_words = infile.read().splitlines()\n",
    "print('stop words %s ...' %stop_words[:5])"
   ]
  },
  {
   "cell_type": "markdown",
   "metadata": {},
   "source": [
    "### Count Vectorizer"
   ]
  },
  {
   "cell_type": "code",
   "execution_count": 9,
   "metadata": {
    "collapsed": true
   },
   "outputs": [],
   "source": [
    "# Count Vectorizer\n",
    "\n",
    "from sklearn.feature_extraction.text import CountVectorizer\n",
    "\n",
    "vec = CountVectorizer(\n",
    "            encoding='utf-8',\n",
    "            decode_error='replace',\n",
    "            strip_accents='unicode',\n",
    "            analyzer='word',\n",
    "            binary=False,\n",
    "            stop_words=stop_words,\n",
    "            tokenizer=porter_tokenizer,\n",
    "            ngram_range=(1,1)\n",
    "    )"
   ]
  },
  {
   "cell_type": "code",
   "execution_count": 10,
   "metadata": {},
   "outputs": [
    {
     "name": "stdout",
     "output_type": "stream",
     "text": [
      "TEST:\n",
      "Vocabulary: ['didn', 'like', 'swim', 'swimmer']\n",
      "Sentence 1: [[0 1 1 1]]\n",
      "Sentence 2: [[0 0 1 1]]\n"
     ]
    }
   ],
   "source": [
    "vocab = [\"123 1 The\\n swimmer likes swimming so he swims. Don't didn`t\"]\n",
    "\n",
    "vec = vec.fit(vocab)\n",
    "\n",
    "sentence1 = vec.transform([u'The swimmer likes swimming.'])\n",
    "sentence2 = vec.transform(['The\\nswimmer \\nswims.'])\n",
    "\n",
    "\n",
    "print('TEST:')\n",
    "print('Vocabulary: %s' %vec.get_feature_names())\n",
    "print('Sentence 1: %s' %sentence1.toarray())\n",
    "print('Sentence 2: %s' %sentence2.toarray())\n"
   ]
  },
  {
   "cell_type": "code",
   "execution_count": 11,
   "metadata": {
    "collapsed": true
   },
   "outputs": [],
   "source": [
    "from sklearn.feature_extraction.text import TfidfVectorizer\n",
    "\n",
    "tfidf = TfidfVectorizer(\n",
    "            encoding='utf-8',\n",
    "            decode_error='replace',\n",
    "            strip_accents='unicode',\n",
    "            analyzer='word',\n",
    "            binary=False,\n",
    "            stop_words=stop_words,\n",
    "            tokenizer=porter_tokenizer\n",
    "    )"
   ]
  },
  {
   "cell_type": "code",
   "execution_count": 12,
   "metadata": {},
   "outputs": [
    {
     "name": "stdout",
     "output_type": "stream",
     "text": [
      "TEST:\n",
      "Vocabulary: ['didn', 'like', 'swim', 'swimmer']\n",
      "Sentence 1: [[0.         0.57735027 0.57735027 0.57735027]]\n",
      "Sentence 2: [[0.         0.         0.70710678 0.70710678]]\n"
     ]
    }
   ],
   "source": [
    "vocab = [\"123 1 The\\n swimmer likes swimming so he swims. Don't didn`t\"]\n",
    "\n",
    "tfidf = tfidf.fit(vocab)\n",
    "\n",
    "sentence1 = tfidf.transform([u'The swimmer likes swimming.'])\n",
    "sentence2 = tfidf.transform(['The\\nswimmer \\nswims.'])\n",
    "\n",
    "\n",
    "print('TEST:')\n",
    "print('Vocabulary: %s' %tfidf.get_feature_names())\n",
    "print('Sentence 1: %s' %sentence1.toarray())\n",
    "print('Sentence 2: %s' %sentence2.toarray())"
   ]
  },
  {
   "cell_type": "markdown",
   "metadata": {},
   "source": [
    "### Fitting the lyrics"
   ]
  },
  {
   "cell_type": "code",
   "execution_count": 13,
   "metadata": {},
   "outputs": [
    {
     "name": "stdout",
     "output_type": "stream",
     "text": [
      "Vocabulary size: 8550\n"
     ]
    }
   ],
   "source": [
    "vec = vec.fit(X_train.ravel())\n",
    "print('Vocabulary size: %s' %len(vec.get_feature_names()))"
   ]
  },
  {
   "cell_type": "markdown",
   "metadata": {},
   "source": [
    "## Model Selection"
   ]
  },
  {
   "cell_type": "code",
   "execution_count": 14,
   "metadata": {
    "collapsed": true
   },
   "outputs": [],
   "source": [
    "from sklearn.naive_bayes import MultinomialNB\n",
    "from sklearn.naive_bayes import BernoulliNB\n",
    "from sklearn.pipeline import Pipeline"
   ]
  },
  {
   "cell_type": "code",
   "execution_count": 15,
   "metadata": {
    "collapsed": true
   },
   "outputs": [],
   "source": [
    "from sklearn import metrics\n",
    "\n",
    "# `pos_label` for positive class, since we have sad=1, happy=0\n",
    "\n",
    "f1_scorer = metrics.make_scorer(metrics.f1_score, greater_is_better=True, pos_label=0)"
   ]
  },
  {
   "cell_type": "code",
   "execution_count": 16,
   "metadata": {},
   "outputs": [
    {
     "name": "stderr",
     "output_type": "stream",
     "text": [
      "C:\\Users\\Samarth\\Anaconda3\\lib\\site-packages\\sklearn\\cross_validation.py:41: DeprecationWarning: This module was deprecated in version 0.18 in favor of the model_selection module into which all the refactored classes and functions are moved. Also note that the interface of the new CV iterators are different from that of this module. This module will be removed in 0.20.\n",
      "  \"This module will be removed in 0.20.\", DeprecationWarning)\n",
      "C:\\Users\\Samarth\\Anaconda3\\lib\\site-packages\\sklearn\\grid_search.py:42: DeprecationWarning: This module was deprecated in version 0.18 in favor of the model_selection module into which all the refactored classes and functions are moved. This module will be removed in 0.20.\n",
      "  DeprecationWarning)\n"
     ]
    },
    {
     "name": "stdout",
     "output_type": "stream",
     "text": [
      "Performing grid search...\n",
      "pipeline: ['vect', 'clf']\n",
      "parameters:\n",
      "Fitting 10 folds for each of 12 candidates, totalling 120 fits\n"
     ]
    },
    {
     "name": "stderr",
     "output_type": "stream",
     "text": [
      "[Parallel(n_jobs=1)]: Done 120 out of 120 | elapsed:  7.6min finished\n"
     ]
    },
    {
     "name": "stdout",
     "output_type": "stream",
     "text": [
      "Best score: 0.620\n",
      "Best parameters set:\n",
      "\tvect__binary: False\n",
      "\tvect__ngram_range: (1, 1)\n",
      "\tvect__stop_words: ['i', 'me', 'my', 'myself', 'we', 'our', 'ours', 'ourselves', 'you', 'your', 'yours', 'yourself', 'yourselves', 'he', 'him', 'his', 'himself', 'she', 'her', 'hers', 'herself', 'it', 'its', 'itself', 'they', 'them', 'their', 'theirs', 'themselves', 'what', 'which', 'who', 'whom', 'this', 'that', 'these', 'those', 'am', 'is', 'are', 'was', 'were', 'be', 'been', 'being', 'have', 'has', 'had', 'having', 'do', 'does', 'did', 'doing', 'a', 'an', 'the', 'and', 'but', 'if', 'or', 'because', 'as', 'until', 'while', 'of', 'at', 'by', 'for', 'with', 'about', 'against', 'between', 'into', 'through', 'during', 'before', 'after', 'above', 'below', 'to', 'from', 'up', 'down', 'in', 'out', 'on', 'off', 'over', 'under', 'again', 'further', 'then', 'once', 'here', 'there', 'when', 'where', 'why', 'how', 'all', 'any', 'both', 'each', 'few', 'more', 'most', 'other', 'some', 'such', 'no', 'nor', 'not', 'only', 'own', 'same', 'so', 'than', 'too', 'very', 's', 't', 'can', 'will', 'just', 'don', 'should', 'now']\n",
      "\tvect__tokenizer: <function porter_tokenizer at 0x0000024EA6DAC950>\n"
     ]
    }
   ],
   "source": [
    "from sklearn.grid_search import GridSearchCV\n",
    "\n",
    "pipeline_3 = Pipeline([\n",
    "    ('vect', CountVectorizer()),\n",
    "    ('clf', MultinomialNB())\n",
    "])\n",
    "\n",
    "parameters_3 = dict(\n",
    "    vect__binary=[False],\n",
    "    vect__stop_words=[stop_words, None],\n",
    "    vect__tokenizer=[porter_tokenizer, None],\n",
    "    vect__ngram_range=[(1,1), (2,2), (3,3)],\n",
    ")\n",
    "\n",
    "grid_search_3 = GridSearchCV(pipeline_3, \n",
    "                           parameters_3, \n",
    "                           n_jobs=1, \n",
    "                           verbose=1,\n",
    "                           scoring=f1_scorer,\n",
    "                           cv=10\n",
    "                )\n",
    "\n",
    "\n",
    "print(\"Performing grid search...\")\n",
    "print(\"pipeline:\", [name for name, _ in pipeline_3.steps])\n",
    "print(\"parameters:\")\n",
    "grid_search_3.fit(X_train, y_train)\n",
    "print(\"Best score: %0.3f\" % grid_search_3.best_score_)\n",
    "print(\"Best parameters set:\")\n",
    "best_parameters_3 = grid_search_3.best_estimator_.get_params()\n",
    "for param_name in sorted(parameters_3.keys()):\n",
    "    print(\"\\t%s: %r\" % (param_name, best_parameters_3[param_name]))"
   ]
  },
  {
   "cell_type": "code",
   "execution_count": 17,
   "metadata": {
    "collapsed": true
   },
   "outputs": [],
   "source": [
    "from sklearn.metrics import roc_curve, auc\n",
    "import seaborn as sns\n",
    "import matplotlib.pyplot as plt\n",
    "%matplotlib inline\n",
    "from sklearn.cross_validation import StratifiedKFold\n",
    "from scipy import interp\n",
    "\n",
    "sns.set()\n",
    "sns.set_style(\"whitegrid\")"
   ]
  },
  {
   "cell_type": "raw",
   "metadata": {},
   "source": [
    "from sklearn.metrics import roc_curve, auc\n",
    "import seaborn as sns\n",
    "import matplotlib.pyplot as plt\n",
    "%matplotlib inline\n",
    "from sklearn.cross_validation import StratifiedKFold\n",
    "from scipy import interp\n",
    "\n",
    "sns.set()\n",
    "sns.set_style(\"whitegrid\")\n",
    "\n",
    "clf_2 = Pipeline([\n",
    "                  ('vect', CountVectorizer(\n",
    "                                           binary=False,\n",
    "                                           stop_words=stop_words,\n",
    "                                           tokenizer=porter_tokenizer,\n",
    "                                           ngram_range=(1,1),\n",
    "                                           )\n",
    "                 ),\n",
    "                 ('clf', MultinomialNB()),\n",
    "                 ])\n",
    "\n",
    "colors = ['#1947D1']\n",
    "linestyles = ['-']\n",
    "classifiers = [clf_2]\n",
    "labels = ['1: Multinomial NB, stop words, porter stemmerx`, \\nuni-gram, df']\n",
    "\n",
    "for clf,col,ls,lab in zip(classifiers, colors, linestyles, labels):\n",
    "    \n",
    "    mean_tpr = 0.0\n",
    "    mean_fpr = np.linspace(0, 1, 100)\n",
    "    all_tpr = []\n",
    "    cv = StratifiedKFold(y_train, n_folds=10, random_state=123)\n",
    "\n",
    "    for i, (train, test) in enumerate(cv):\n",
    "        probas_ = clf.fit(X_train[train], y_train[train]).predict_proba(X_train[test])\n",
    "        # Compute ROC curve and area the curve\n",
    "        fpr, tpr, thresholds = roc_curve(y_train[test], probas_[:, 1])\n",
    "        mean_tpr += interp(mean_fpr, fpr, tpr)\n",
    "        mean_tpr[0] = 0.0\n",
    "        roc_auc = auc(fpr, tpr)\n",
    "\n",
    "    mean_tpr /= len(cv)\n",
    "    mean_tpr[-1] = 1.0\n",
    "    mean_auc = auc(mean_fpr, mean_tpr)\n",
    "    plt.plot(mean_fpr, \n",
    "             mean_tpr, \n",
    "             color=col, \n",
    "             linestyle=ls,\n",
    "             label='%s (ROC AUC = %0.2f)' % (lab, mean_auc), \n",
    "             lw=2\n",
    "    )\n",
    "\n",
    "plt.plot([0, 1], [0, 1], '--', color=(0.6, 0.6, 0.6), label='Random Guessing')    \n",
    "plt.xlim([-0.05, 1.05])\n",
    "plt.ylim([-0.05, 1.05])\n",
    "plt.xlabel('False Positive Rate')\n",
    "plt.ylabel('True Positive Rate')\n",
    "plt.legend(loc=\"lower right\")\n",
    "plt.show()"
   ]
  },
  {
   "cell_type": "markdown",
   "metadata": {},
   "source": [
    "#### Hyperparameter Tuning - max_features"
   ]
  },
  {
   "cell_type": "raw",
   "metadata": {},
   "source": [
    "colors = ['#1947D1', '#CC3300', 'k', '#339933']\n",
    "linestyles = ['-', '--', '-.', ':']\n",
    "params = [1000,3000,5000,None]\n",
    "labels = ['max features = 1000', \n",
    "          'max features = 3000',\n",
    "          'max features = 5000',\n",
    "          'max features = all (=8550)',\n",
    "          ]\n",
    "\n",
    "for param,col,ls,lab in zip(params, colors, linestyles, labels):\n",
    "\n",
    "    clf = Pipeline([\n",
    "                         ('vect', CountVectorizer(\n",
    "                                                  binary=False,\n",
    "                                                  stop_words=stop_words,\n",
    "                                                  tokenizer=porter_tokenizer,\n",
    "                                                  ngram_range=(1,1),\n",
    "                                                  max_features=param,\n",
    "                                                  )\n",
    "                          ),\n",
    "                         ('clf', MultinomialNB()),\n",
    "                        ])\n",
    "    \n",
    "    mean_tpr = 0.0\n",
    "    mean_fpr = np.linspace(0, 1, 100)\n",
    "    all_tpr = []\n",
    "    cv = StratifiedKFold(y_train, n_folds=10, random_state=123)\n",
    "\n",
    "    for i, (train, test) in enumerate(cv):\n",
    "        probas_ = clf.fit(X_train[train], y_train[train]).predict_proba(X_train[test])\n",
    "        # Compute ROC curve and area the curve\n",
    "        fpr, tpr, thresholds = roc_curve(y_train[test], probas_[:, 1])\n",
    "        mean_tpr += interp(mean_fpr, fpr, tpr)\n",
    "        mean_tpr[0] = 0.0\n",
    "        roc_auc = auc(fpr, tpr)\n",
    "\n",
    "    mean_tpr /= len(cv)\n",
    "    mean_tpr[-1] = 1.0\n",
    "    mean_auc = auc(mean_fpr, mean_tpr)\n",
    "    plt.plot(mean_fpr, \n",
    "             mean_tpr, \n",
    "             color=col, \n",
    "             linestyle=ls,\n",
    "             label='%s (ROC AUC = %0.2f)' % (lab, mean_auc), \n",
    "             lw=2\n",
    "    )\n",
    "\n",
    "plt.plot([0, 1], [0, 1], '--', color=(0.6, 0.6, 0.6), label='Random Guessing')    \n",
    "plt.xlim([-0.05, 1.05])\n",
    "plt.ylim([-0.05, 1.05])\n",
    "plt.xlabel('False Positive Rate')\n",
    "plt.ylabel('True Positive Rate')\n",
    "plt.title('Multinomial NB, stop words, porter stemmer, uni-gram, tf-idf')\n",
    "plt.legend(loc=\"lower right\")\n",
    "plt.show()"
   ]
  },
  {
   "cell_type": "markdown",
   "metadata": {},
   "source": [
    "#### Hyperparamter Tuning - min_df"
   ]
  },
  {
   "cell_type": "raw",
   "metadata": {},
   "source": [
    "colors = ['#1947D1', '#CC3300', 'k', ]\n",
    "linestyles = ['-', '--', '-.']\n",
    "params = [1, 0.1, 0.01]\n",
    "labels = ['no cutoff',\n",
    "          'min. df = 0.1', \n",
    "          'min. df = 0.01',\n",
    "          ]\n",
    "\n",
    "for param,col,ls,lab in zip(params, colors, linestyles, labels):\n",
    "\n",
    "    clf = Pipeline([\n",
    "                         ('vect', CountVectorizer(\n",
    "                                                  binary=False,\n",
    "                                                  stop_words=stop_words,\n",
    "                                                  tokenizer=porter_tokenizer,\n",
    "                                                  ngram_range=(1,1),\n",
    "                                                  min_df=param,\n",
    "                                                  )\n",
    "                          ),\n",
    "                         ('clf', MultinomialNB()),\n",
    "                        ])\n",
    "    \n",
    "    mean_tpr = 0.0\n",
    "    mean_fpr = np.linspace(0, 1, 100)\n",
    "    all_tpr = []\n",
    "    cv = StratifiedKFold(y_train, n_folds=10, random_state=123)\n",
    "\n",
    "    for i, (train, test) in enumerate(cv):\n",
    "        probas_ = clf.fit(X_train[train], y_train[train]).predict_proba(X_train[test])\n",
    "        # Compute ROC curve and area the curve\n",
    "        fpr, tpr, thresholds = roc_curve(y_train[test], probas_[:, 1])\n",
    "        mean_tpr += interp(mean_fpr, fpr, tpr)\n",
    "        mean_tpr[0] = 0.0\n",
    "        roc_auc = auc(fpr, tpr)\n",
    "\n",
    "    mean_tpr /= len(cv)\n",
    "    mean_tpr[-1] = 1.0\n",
    "    mean_auc = auc(mean_fpr, mean_tpr)\n",
    "    plt.plot(mean_fpr, \n",
    "             mean_tpr, \n",
    "             color=col, \n",
    "             linestyle=ls,\n",
    "             label='%s (ROC AUC = %0.2f)' % (lab, mean_auc), \n",
    "             lw=2\n",
    "    )\n",
    "\n",
    "plt.plot([0, 1], [0, 1], '--', color=(0.6, 0.6, 0.6), label='Random Guessing')    \n",
    "plt.xlim([-0.05, 1.05])\n",
    "plt.ylim([-0.05, 1.05])\n",
    "plt.xlabel('False Positive Rate')\n",
    "plt.ylabel('True Positive Rate')\n",
    "plt.legend(loc=\"lower right\")\n",
    "plt.title('Multinomial NB, stop words, porter stemmer, uni-gram, tf-idf')\n",
    "plt.show()"
   ]
  },
  {
   "cell_type": "markdown",
   "metadata": {},
   "source": [
    "#### Hyperparameter Tuning - alpha"
   ]
  },
  {
   "cell_type": "raw",
   "metadata": {},
   "source": [
    "colors = ['#1947D1', '#CC3300', 'k', '#339933']\n",
    "linestyles = ['-', '--', '-.', ':']\n",
    "params = [0.05, 0.1, 1.0, 2.0]\n",
    "labels = ['alpha = 0.05', \n",
    "          'alpha = 0.1',\n",
    "          'alpha = 1.0',\n",
    "          'alpha = 2.0',\n",
    "          ]\n",
    "\n",
    "for param,col,ls,lab in zip(params, colors, linestyles, labels):\n",
    "\n",
    "    clf = Pipeline([\n",
    "                         ('vect', CountVectorizer(\n",
    "                                                  binary=False,\n",
    "                                                  stop_words=stop_words,\n",
    "                                                  tokenizer=porter_tokenizer,\n",
    "                                                  ngram_range=(1,1),\n",
    "                                                  \n",
    "                                                  )\n",
    "                          ),\n",
    "                         ('clf', MultinomialNB(alpha=param)),\n",
    "                        ])\n",
    "    \n",
    "    mean_tpr = 0.0\n",
    "    mean_fpr = np.linspace(0, 1, 100)\n",
    "    all_tpr = []\n",
    "    cv = StratifiedKFold(y_train, n_folds=10, random_state=123)\n",
    "\n",
    "    for i, (train, test) in enumerate(cv):\n",
    "        probas_ = clf.fit(X_train[train], y_train[train]).predict_proba(X_train[test])\n",
    "        # Compute ROC curve and area the curve\n",
    "        fpr, tpr, thresholds = roc_curve(y_train[test], probas_[:, 1])\n",
    "        mean_tpr += interp(mean_fpr, fpr, tpr)\n",
    "        mean_tpr[0] = 0.0\n",
    "        roc_auc = auc(fpr, tpr)\n",
    "\n",
    "    mean_tpr /= len(cv)\n",
    "    mean_tpr[-1] = 1.0\n",
    "    mean_auc = auc(mean_fpr, mean_tpr)\n",
    "    plt.plot(mean_fpr, \n",
    "             mean_tpr, \n",
    "             color=col, \n",
    "             linestyle=ls,\n",
    "             label='%s (ROC AUC = %0.2f)' % (lab, mean_auc), \n",
    "             lw=2\n",
    "    )\n",
    "\n",
    "plt.plot([0, 1], [0, 1], '--', color=(0.6, 0.6, 0.6), label='Random Guessing')    \n",
    "plt.xlim([-0.05, 1.05])\n",
    "plt.ylim([-0.05, 1.05])\n",
    "plt.xlabel('False Positive Rate')\n",
    "plt.ylabel('True Positive Rate')\n",
    "plt.legend(loc=\"lower right\")\n",
    "plt.title('Multinomial NB, stop words, porter stemmer, uni-gram, tf-idf')\n",
    "plt.show()"
   ]
  },
  {
   "cell_type": "markdown",
   "metadata": {},
   "source": [
    "#### n-gram Comparison"
   ]
  },
  {
   "cell_type": "raw",
   "metadata": {},
   "source": [
    "colors = ['#1947D1', '#CC3300', 'k', ]\n",
    "linestyles = ['-', '--', '-.',]\n",
    "params = [(1,1), (2,2), (3,3),]\n",
    "labels = ['1-gram', \n",
    "          '2-gram',\n",
    "          '3-gram',\n",
    "          ]\n",
    "\n",
    "for param,col,ls,lab in zip(params, colors, linestyles, labels):\n",
    "\n",
    "    clf = Pipeline([\n",
    "                         ('vect', CountVectorizer(\n",
    "                                                  binary=False,\n",
    "                                                  stop_words=stop_words,\n",
    "                                                  tokenizer=porter_tokenizer,\n",
    "                                                  ngram_range=param,\n",
    "                                                  \n",
    "                                                  )\n",
    "                          ),\n",
    "                         ('clf', MultinomialNB(alpha=1.0)),\n",
    "                        ])\n",
    "    \n",
    "    mean_tpr = 0.0\n",
    "    mean_fpr = np.linspace(0, 1, 100)\n",
    "    all_tpr = []\n",
    "    cv = StratifiedKFold(y_train, n_folds=10, random_state=123)\n",
    "\n",
    "    for i, (train, test) in enumerate(cv):\n",
    "        probas_ = clf.fit(X_train[train], y_train[train]).predict_proba(X_train[test])\n",
    "        # Compute ROC curve and area the curve\n",
    "        fpr, tpr, thresholds = roc_curve(y_train[test], probas_[:, 1])\n",
    "        mean_tpr += interp(mean_fpr, fpr, tpr)\n",
    "        mean_tpr[0] = 0.0\n",
    "        roc_auc = auc(fpr, tpr)\n",
    "\n",
    "    mean_tpr /= len(cv)\n",
    "    mean_tpr[-1] = 1.0\n",
    "    mean_auc = auc(mean_fpr, mean_tpr)\n",
    "    plt.plot(mean_fpr, \n",
    "             mean_tpr, \n",
    "             color=col, \n",
    "             linestyle=ls,\n",
    "             label='%s (ROC AUC = %0.2f)' % (lab, mean_auc), \n",
    "             lw=2\n",
    "    )\n",
    "\n",
    "plt.plot([0, 1], [0, 1], '--', color=(0.6, 0.6, 0.6), label='Random Guessing')    \n",
    "plt.xlim([-0.05, 1.05])\n",
    "plt.ylim([-0.05, 1.05])\n",
    "plt.xlabel('False Positive Rate')\n",
    "plt.ylabel('True Positive Rate')\n",
    "plt.legend(loc=\"lower right\")\n",
    "plt.title('Multinomial NB, stop words, porter stemmer, uni-gram, tf-idf')\n",
    "plt.show()"
   ]
  },
  {
   "cell_type": "markdown",
   "metadata": {},
   "source": [
    "## Validation"
   ]
  },
  {
   "cell_type": "code",
   "execution_count": 18,
   "metadata": {},
   "outputs": [
    {
     "data": {
      "text/plain": [
       "Pipeline(memory=None,\n",
       "     steps=[('vect', CountVectorizer(analyzer='word', binary=False, decode_error='strict',\n",
       "        dtype=<class 'numpy.int64'>, encoding='utf-8', input='content',\n",
       "        lowercase=True, max_df=1.0, max_features=None, min_df=1,\n",
       "        ngram_range=(1, 1), preprocessor=None,\n",
       "        stop_words=['i', 'me',...50>,\n",
       "        vocabulary=None)), ('clf', MultinomialNB(alpha=1.0, class_prior=None, fit_prior=True))])"
      ]
     },
     "execution_count": 18,
     "metadata": {},
     "output_type": "execute_result"
    }
   ],
   "source": [
    "final_clf = Pipeline([\n",
    "                ('vect', CountVectorizer(\n",
    "                                         binary=False,\n",
    "                                         stop_words=stop_words,\n",
    "                                         tokenizer=porter_tokenizer,\n",
    "                                         ngram_range=(1,1),\n",
    "                                         )\n",
    "                ),\n",
    "                ('clf', MultinomialNB(alpha=1.0)),\n",
    "               ])\n",
    "final_clf.fit(X_train, y_train)"
   ]
  },
  {
   "cell_type": "code",
   "execution_count": 19,
   "metadata": {},
   "outputs": [
    {
     "data": {
      "image/png": "[encoded data removed]",
      "text/plain": [
       "<matplotlib.figure.Figure at 0x24ea7f622b0>"
      ]
     },
     "metadata": {},
     "output_type": "display_data"
    }
   ],
   "source": [
    "import matplotlib as mpl\n",
    "import numpy as np\n",
    "import seaborn as sns\n",
    "\n",
    "cm = metrics.confusion_matrix(y_train, final_clf.predict(X_train))\n",
    "\n",
    "np.set_printoptions(suppress=True)\n",
    "mpl.rc(\"figure\", figsize=(4, 2))\n",
    "\n",
    "hm = sns.heatmap(cm, \n",
    "            cbar=False,\n",
    "            annot=True, \n",
    "            square=True,\n",
    "            fmt='d',\n",
    "            yticklabels=['happy','sad'],\n",
    "            xticklabels=['happy','sad'],\n",
    "            cmap='Blues'\n",
    "            )\n",
    "plt.title('Confusion matrix - Training dataset')\n",
    "plt.ylabel('actual class')\n",
    "plt.xlabel('predicted class')\n",
    "plt.tight_layout()\n",
    "plt.show()"
   ]
  },
  {
   "cell_type": "code",
   "execution_count": 20,
   "metadata": {
    "collapsed": true
   },
   "outputs": [],
   "source": [
    "\n",
    "df = pd.read_excel('valid_songs_200.xlsx')\n",
    "\n",
    "X_valid = df['lyrics'].values \n",
    "y_valid = df['mood'].values\n",
    "\n",
    "y_valid = le.transform(y_valid)"
   ]
  },
  {
   "cell_type": "code",
   "execution_count": 21,
   "metadata": {},
   "outputs": [
    {
     "data": {
      "image/png": "[encoded data removed]",
      "text/plain": [
       "<matplotlib.figure.Figure at 0x24ea7ec1828>"
      ]
     },
     "metadata": {},
     "output_type": "display_data"
    }
   ],
   "source": [
    "cm = metrics.confusion_matrix(y_valid, final_clf.predict(X_valid))\n",
    "\n",
    "np.set_printoptions(suppress=True)\n",
    "mpl.rc(\"figure\", figsize=(4, 2))\n",
    "\n",
    "hm = sns.heatmap(cm, \n",
    "            cbar=False,\n",
    "            annot=True, \n",
    "            square=True,\n",
    "            fmt='d',\n",
    "            yticklabels=['happy','sad'],\n",
    "            xticklabels=['happy','sad'],\n",
    "            cmap='Blues'\n",
    "            )\n",
    "plt.title('Confusion matrix - Validation dataset')\n",
    "plt.ylabel('actual class')\n",
    "plt.xlabel('predicted class')\n",
    "plt.tight_layout()\n",
    "plt.show()"
   ]
  },
  {
   "cell_type": "code",
   "execution_count": 22,
   "metadata": {
    "collapsed": true
   },
   "outputs": [],
   "source": [
    "# Custom scorer methods to account for positive-negative class labels\n",
    "\n",
    "from sklearn import metrics\n",
    "\n",
    "# `pos_label` for positive class, since we have sad=1, happy=0\n",
    "\n",
    "acc_scorer = metrics.make_scorer(metrics.accuracy_score, greater_is_better=True)\n",
    "pre_scorer = metrics.make_scorer(metrics.precision_score, greater_is_better=True, pos_label=0)\n",
    "rec_scorer = metrics.make_scorer(metrics.recall_score, greater_is_better=True, pos_label=0)\n",
    "f1_scorer = metrics.make_scorer(metrics.f1_score, greater_is_better=True, pos_label=0)\n",
    "auc_scorer = metrics.make_scorer(metrics.roc_auc_score, greater_is_better=True)"
   ]
  },
  {
   "cell_type": "code",
   "execution_count": 23,
   "metadata": {
    "collapsed": true
   },
   "outputs": [],
   "source": [
    "d = {'Data':['Training', 'Validation'],\n",
    "     'ACC (%)':[],\n",
    "     'PRE (%)':[],\n",
    "     'REC (%)':[],\n",
    "     'F1 (%)':[],\n",
    "     'ROC AUC (%)':[],\n",
    "}"
   ]
  },
  {
   "cell_type": "code",
   "execution_count": 24,
   "metadata": {
    "collapsed": true
   },
   "outputs": [],
   "source": [
    "d['ACC (%)'].append(acc_scorer(estimator=final_clf, X=X_train, y_true=y_train))\n",
    "d['PRE (%)'].append(pre_scorer(estimator=final_clf, X=X_train, y_true=y_train))\n",
    "d['REC (%)'].append(rec_scorer(estimator=final_clf, X=X_train, y_true=y_train))\n",
    "d['F1 (%)'].append(f1_scorer(estimator=final_clf, X=X_train, y_true=y_train))\n",
    "d['ROC AUC (%)'].append(auc_scorer(estimator=final_clf, X=X_train, y_true=y_train))\n",
    "\n",
    "d['ACC (%)'].append(acc_scorer(estimator=final_clf, X=X_valid, y_true=y_valid))\n",
    "d['PRE (%)'].append(pre_scorer(estimator=final_clf, X=X_valid, y_true=y_valid))\n",
    "d['REC (%)'].append(rec_scorer(estimator=final_clf, X=X_valid, y_true=y_valid))\n",
    "d['F1 (%)'].append(f1_scorer(estimator=final_clf, X=X_valid, y_true=y_valid))\n",
    "d['ROC AUC (%)'].append(auc_scorer(estimator=final_clf, X=X_valid, y_true=y_valid))"
   ]
  },
  {
   "cell_type": "code",
   "execution_count": 25,
   "metadata": {},
   "outputs": [
    {
     "data": {
      "text/html": [
       "<div>\n",
       "<style>\n",
       "    .dataframe thead tr:only-child th {\n",
       "        text-align: right;\n",
       "    }\n",
       "\n",
       "    .dataframe thead th {\n",
       "        text-align: left;\n",
       "    }\n",
       "\n",
       "    .dataframe tbody tr th {\n",
       "        vertical-align: top;\n",
       "    }\n",
       "</style>\n",
       "<table border=\"1\" class=\"dataframe\">\n",
       "  <thead>\n",
       "    <tr style=\"text-align: right;\">\n",
       "      <th></th>\n",
       "      <th>ACC (%)</th>\n",
       "      <th>PRE (%)</th>\n",
       "      <th>REC (%)</th>\n",
       "      <th>F1 (%)</th>\n",
       "      <th>ROC AUC (%)</th>\n",
       "    </tr>\n",
       "  </thead>\n",
       "  <tbody>\n",
       "    <tr>\n",
       "      <th>Training</th>\n",
       "      <td>94.0</td>\n",
       "      <td>93.47</td>\n",
       "      <td>93.05</td>\n",
       "      <td>93.26</td>\n",
       "      <td>93.91</td>\n",
       "    </tr>\n",
       "    <tr>\n",
       "      <th>Validation</th>\n",
       "      <td>68.0</td>\n",
       "      <td>75.95</td>\n",
       "      <td>57.14</td>\n",
       "      <td>65.22</td>\n",
       "      <td>68.57</td>\n",
       "    </tr>\n",
       "  </tbody>\n",
       "</table>\n",
       "</div>"
      ],
      "text/plain": [
       "            ACC (%)  PRE (%)  REC (%)  F1 (%)  ROC AUC (%)\n",
       "Training       94.0    93.47    93.05   93.26        93.91\n",
       "Validation     68.0    75.95    57.14   65.22        68.57"
      ]
     },
     "execution_count": 25,
     "metadata": {},
     "output_type": "execute_result"
    }
   ],
   "source": [
    "df_perform = pd.DataFrame(d)\n",
    "df_perform = df_perform[['ACC (%)', 'PRE (%)', 'REC (%)', 'F1 (%)', 'ROC AUC (%)']]\n",
    "df_perform.index=(['Training', 'Validation'])\n",
    "df_perform = df_perform*100\n",
    "df_perform = np.round(df_perform, decimals=2)\n",
    "df_perform"
   ]
  },
  {
   "cell_type": "code",
   "execution_count": 26,
   "metadata": {
    "collapsed": true
   },
   "outputs": [],
   "source": [
    "lyrics_clf_1000 = final_clf\n",
    "\n",
    "pickle_out = open('./lyrics_clf_1000_py27.pkl', 'wb')\n",
    "pickle.dump(lyrics_clf_1000, pickle_out)\n",
    "pickle_out.close()"
   ]
  },
  {
   "cell_type": "code",
   "execution_count": null,
   "metadata": {
    "collapsed": true
   },
   "outputs": [],
   "source": []
  }
 ],
 "metadata": {
  "kernelspec": {
   "display_name": "Python 3",
   "language": "python",
   "name": "python3"
  },
  "language_info": {
   "codemirror_mode": {
    "name": "ipython",
    "version": 3
   },
   "file_extension": ".py",
   "mimetype": "text/x-python",
   "name": "python",
   "nbconvert_exporter": "python",
   "pygments_lexer": "ipython3",
   "version": "3.6.3"
  }
 },
 "nbformat": 4,
 "nbformat_minor": 2
}
